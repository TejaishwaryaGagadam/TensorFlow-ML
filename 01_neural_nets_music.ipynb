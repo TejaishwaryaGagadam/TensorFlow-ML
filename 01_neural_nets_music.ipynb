{
 "cells": [
  {
   "cell_type": "code",
   "execution_count": 1,
   "metadata": {},
   "outputs": [
    {
     "name": "stderr",
     "output_type": "stream",
     "text": [
      "/anaconda3/lib/python3.6/site-packages/h5py/__init__.py:36: FutureWarning: Conversion of the second argument of issubdtype from `float` to `np.floating` is deprecated. In future, it will be treated as `np.float64 == np.dtype(float).type`.\n",
      "  from ._conv import register_converters as _register_converters\n"
     ]
    }
   ],
   "source": [
    "import tensorflow as tf\n",
    "import numpy as np\n",
    "import matplotlib\n",
    "import matplotlib.pyplot as plt\n",
    "%matplotlib inline"
   ]
  },
  {
   "cell_type": "markdown",
   "metadata": {},
   "source": [
    "## Audio Feature Extraction with Librosa"
   ]
  },
  {
   "cell_type": "code",
   "execution_count": 2,
   "metadata": {},
   "outputs": [],
   "source": [
    "# pip install -u librosa\n",
    "\n",
    "# sudo apt-get install build-essential\n",
    "# sudo apt-get install libxext-dev python-qt4 qt4-dev-tools\n",
    "# pip install librosa"
   ]
  },
  {
   "cell_type": "code",
   "execution_count": 3,
   "metadata": {},
   "outputs": [],
   "source": [
    "import librosa\n",
    "import librosa.display\n",
    "import librosa.feature"
   ]
  },
  {
   "cell_type": "markdown",
   "metadata": {},
   "source": [
    "A set of music samples from the website:\n",
    "http://theremin.music.uiowa.edu\n",
    "This website has a great set of samples for audio processing."
   ]
  },
  {
   "cell_type": "code",
   "execution_count": 5,
   "metadata": {},
   "outputs": [],
   "source": [
    "import requests\n",
    "fn = \"SopSax.Vib.pp.C6Eb6.aiff\"\n",
    "url = \"http://theremin.music.uiowa.edu/sound files/MIS/Woodwinds/sopranosaxophone/\"+fn\n",
    "\n",
    "req = requests.get(url)\n",
    "with open(fn, \"wb\") as file:\n",
    "    file.write(req.content) # write to file"
   ]
  },
  {
   "cell_type": "code",
   "execution_count": 6,
   "metadata": {},
   "outputs": [],
   "source": [
    "y, sr = librosa.load(fn)"
   ]
  },
  {
   "cell_type": "markdown",
   "metadata": {},
   "source": [
    "Extracting features from audio files is an entire subject on its own right. A commonly used\n",
    "set of features are called the Mel Frequency Cepstral Coefficients (MFCCs). These are derived\n",
    "from the so-called mel spectrogram which is something like a regular spectrogram, but the power\n",
    "and frequency are represented in log scale, which more naturally aligns with human perceptual\n",
    "processing. You can run the code below to display the mel spectrogram from the audio sample.\n",
    "You can easily see the four notes played in the audio track. You also see the ’harmonics’ of\n",
    "each notes, which are other tones at integer multiples of the fundamental frequency of each note."
   ]
  },
  {
   "cell_type": "code",
   "execution_count": 7,
   "metadata": {},
   "outputs": [
    {
     "data": {
      "image/png": "[encoded data removed]",
      "text/plain": [
       "<matplotlib.figure.Figure at 0x1c3241ae48>"
      ]
     },
     "metadata": {},
     "output_type": "display_data"
    }
   ],
   "source": [
    "S = librosa.feature.melspectrogram(y=y, sr=sr, n_mels=128, fmax=8000)\n",
    "librosa.display.specshow(librosa.amplitude_to_db(S),\n",
    "y_axis='mel', fmax=8000, x_axis='time')\n",
    "plt.colorbar(format='%+2.0f dB')\n",
    "plt.title('Mel spectrogram')\n",
    "plt.tight_layout()"
   ]
  },
  {
   "cell_type": "markdown",
   "metadata": {},
   "source": [
    "use their processed\n",
    "data provided at:\n",
    "https://github.com/marl/dl4mir-tutorial/blob/master/README.md\n",
    "Note the password. Load the four files into some directory, say instrument_dataset. Then,\n",
    "load them with the commands."
   ]
  },
  {
   "cell_type": "code",
   "execution_count": 10,
   "metadata": {},
   "outputs": [],
   "source": [
    "data_dir = '/Users/apple/Downloads/instrument_dataset/'\n",
    "Xtr = np.load(data_dir+'uiowa_train_data.npy')\n",
    "ytr = np.load(data_dir+'uiowa_train_labels.npy')\n",
    "Xts = np.load(data_dir+'uiowa_test_data.npy')\n",
    "yts = np.load(data_dir+'uiowa_test_labels.npy')"
   ]
  },
  {
   "cell_type": "code",
   "execution_count": 11,
   "metadata": {},
   "outputs": [
    {
     "name": "stdout",
     "output_type": "stream",
     "text": [
      "Num training= 66247\n",
      "Num test= 14904\n",
      "Num features= 120\n",
      "Num classes= 10\n"
     ]
    }
   ],
   "source": [
    "print('Num training= {0:d}'.format(Xtr.shape[0]))\n",
    "print('Num test= {0:d}'.format(Xts.shape[0]))\n",
    "print('Num features= {0:d}'.format(Xtr.shape[1]))\n",
    "print('Num classes= {0:d}'.format(np.max(ytr)+1))"
   ]
  },
  {
   "cell_type": "code",
   "execution_count": 12,
   "metadata": {},
   "outputs": [],
   "source": [
    "xmean = np.mean(Xtr,axis=0)\n",
    "xstd = np.std(Xtr,axis=0)\n",
    "Xtr_scale = (Xtr-xmean[None,:])/xstd[None,:]\n",
    "Xts_scale = (Xts-xmean[None,:])/xstd[None,:]"
   ]
  },
  {
   "cell_type": "markdown",
   "metadata": {},
   "source": [
    "## Building a Neural Network Classifier\n",
    "\n"
   ]
  },
  {
   "cell_type": "code",
   "execution_count": 13,
   "metadata": {},
   "outputs": [],
   "source": [
    "from tensorflow.keras.models import Model, Sequential\n",
    "from tensorflow.keras.layers import Dense, Activation"
   ]
  },
  {
   "cell_type": "code",
   "execution_count": 14,
   "metadata": {},
   "outputs": [],
   "source": [
    "import tensorflow.keras.backend as K\n",
    "K.clear_session()"
   ]
  },
  {
   "cell_type": "code",
   "execution_count": 15,
   "metadata": {},
   "outputs": [],
   "source": [
    "nin = Xtr.shape[1]\n",
    "nout = np.max(ytr)+1\n",
    "nh = 256\n",
    "model = Sequential()\n",
    "model.add(Dense(nh, input_shape=(nin,), activation='sigmoid', name='hidden'))\n",
    "model.add(Dense(nout, activation='softmax', name='output'))"
   ]
  },
  {
   "cell_type": "code",
   "execution_count": 16,
   "metadata": {},
   "outputs": [
    {
     "name": "stdout",
     "output_type": "stream",
     "text": [
      "Model: \"sequential\"\n",
      "_________________________________________________________________\n",
      "Layer (type)                 Output Shape              Param #   \n",
      "=================================================================\n",
      "hidden (Dense)               (None, 256)               30976     \n",
      "_________________________________________________________________\n",
      "output (Dense)               (None, 10)                2570      \n",
      "=================================================================\n",
      "Total params: 33,546\n",
      "Trainable params: 33,546\n",
      "Non-trainable params: 0\n",
      "_________________________________________________________________\n"
     ]
    }
   ],
   "source": [
    "model.summary()"
   ]
  },
  {
   "cell_type": "code",
   "execution_count": 17,
   "metadata": {},
   "outputs": [],
   "source": [
    "from tensorflow.keras import optimizers\n",
    "\n",
    "\n",
    "opt = optimizers.Adam(lr=0.001)\n",
    "model.compile(optimizer=opt,\n",
    "loss='sparse_categorical_crossentropy',\n",
    "metrics=['accuracy'])"
   ]
  },
  {
   "cell_type": "code",
   "execution_count": 18,
   "metadata": {},
   "outputs": [
    {
     "name": "stdout",
     "output_type": "stream",
     "text": [
      "Train on 66247 samples, validate on 14904 samples\n",
      "Epoch 1/10\n",
      "66247/66247 [==============================] - 2s 37us/sample - loss: 0.3681 - accuracy: 0.9008 - val_loss: 0.1873 - val_accuracy: 0.9460\n",
      "Epoch 2/10\n",
      "66247/66247 [==============================] - 2s 31us/sample - loss: 0.1028 - accuracy: 0.9756 - val_loss: 0.0928 - val_accuracy: 0.9773\n",
      "Epoch 3/10\n",
      "66247/66247 [==============================] - 2s 33us/sample - loss: 0.0605 - accuracy: 0.9850 - val_loss: 0.0739 - val_accuracy: 0.9803\n",
      "Epoch 4/10\n",
      "66247/66247 [==============================] - 2s 27us/sample - loss: 0.0425 - accuracy: 0.9898 - val_loss: 0.0515 - val_accuracy: 0.9852\n",
      "Epoch 5/10\n",
      "66247/66247 [==============================] - 2s 29us/sample - loss: 0.0324 - accuracy: 0.9919 - val_loss: 0.0434 - val_accuracy: 0.9867\n",
      "Epoch 6/10\n",
      "66247/66247 [==============================] - 2s 37us/sample - loss: 0.0259 - accuracy: 0.9933 - val_loss: 0.0343 - val_accuracy: 0.9911\n",
      "Epoch 7/10\n",
      "66247/66247 [==============================] - 2s 28us/sample - loss: 0.0212 - accuracy: 0.9944 - val_loss: 0.0430 - val_accuracy: 0.9861\n",
      "Epoch 8/10\n",
      "66247/66247 [==============================] - 2s 29us/sample - loss: 0.0178 - accuracy: 0.9955 - val_loss: 0.0289 - val_accuracy: 0.9913\n",
      "Epoch 9/10\n",
      "66247/66247 [==============================] - 2s 29us/sample - loss: 0.0153 - accuracy: 0.9961 - val_loss: 0.0257 - val_accuracy: 0.9920\n",
      "Epoch 10/10\n",
      "66247/66247 [==============================] - 2s 29us/sample - loss: 0.0133 - accuracy: 0.9967 - val_loss: 0.0224 - val_accuracy: 0.9934\n"
     ]
    }
   ],
   "source": [
    "batch_size = 100\n",
    "hist = model.fit(Xtr_scale, ytr, epochs=10, batch_size=batch_size, validation_data = (Xts_scale, yts))\n",
    "                \n",
    "                 \n",
    "                 "
   ]
  },
  {
   "cell_type": "code",
   "execution_count": 20,
   "metadata": {},
   "outputs": [
    {
     "data": {
      "text/plain": [
       "Text(0,0.5,'Test accuracy')"
      ]
     },
     "execution_count": 20,
     "metadata": {},
     "output_type": "execute_result"
    },
    {
     "data": {
      "image/png": "[encoded data removed]",
      "text/plain": [
       "<matplotlib.figure.Figure at 0x1c32035b00>"
      ]
     },
     "metadata": {},
     "output_type": "display_data"
    }
   ],
   "source": [
    "val_acc = hist.history['val_accuracy']\n",
    "nepochs = len(val_acc)\n",
    "plt.plot(np.arange(1,nepochs+1), val_acc, 'o-', linewidth=2)\n",
    "plt.grid()\n",
    "plt.xlabel('Epoch')\n",
    "plt.ylabel('Test accuracy')"
   ]
  },
  {
   "cell_type": "code",
   "execution_count": 21,
   "metadata": {},
   "outputs": [
    {
     "data": {
      "image/png": "[encoded data removed]",
      "text/plain": [
       "<matplotlib.figure.Figure at 0x1c320355c0>"
      ]
     },
     "metadata": {},
     "output_type": "display_data"
    }
   ],
   "source": [
    "loss = hist.history['loss']\n",
    "plt.semilogy(np.arange(1,nepochs+1), loss, 'o-')\n",
    "plt.xlabel('Epochs', fontsize=16)\n",
    "plt.ylabel('Loss', fontsize=16)\n",
    "plt.grid()\n",
    "plt.tight_layout()"
   ]
  },
  {
   "cell_type": "markdown",
   "metadata": {},
   "source": [
    "## Optimizing the Learning Rate\n",
    "\n",
    "One challenge in training neural networks is the selection of the learning rate. "
   ]
  },
  {
   "cell_type": "code",
   "execution_count": 22,
   "metadata": {},
   "outputs": [
    {
     "name": "stdout",
     "output_type": "stream",
     "text": [
      "Train on 66247 samples, validate on 14904 samples\n",
      "Epoch 1/20\n",
      "66247/66247 [==============================] - 2s 29us/sample - loss: 0.1060 - accuracy: 0.9666 - val_loss: 0.0519 - val_accuracy: 0.9822\n",
      "Epoch 2/20\n",
      "66247/66247 [==============================] - 2s 32us/sample - loss: 0.0275 - accuracy: 0.9909 - val_loss: 0.0729 - val_accuracy: 0.9723\n",
      "Epoch 3/20\n",
      "66247/66247 [==============================] - 2s 26us/sample - loss: 0.0215 - accuracy: 0.9928 - val_loss: 0.0248 - val_accuracy: 0.9907\n",
      "Epoch 4/20\n",
      "66247/66247 [==============================] - 2s 27us/sample - loss: 0.0168 - accuracy: 0.9944 - val_loss: 0.0264 - val_accuracy: 0.9910\n",
      "Epoch 5/20\n",
      "66247/66247 [==============================] - 2s 29us/sample - loss: 0.0149 - accuracy: 0.9952 - val_loss: 0.0445 - val_accuracy: 0.9845\n",
      "Epoch 6/20\n",
      "66247/66247 [==============================] - 3s 42us/sample - loss: 0.0154 - accuracy: 0.9949 - val_loss: 0.0391 - val_accuracy: 0.9870\n",
      "Epoch 7/20\n",
      "66247/66247 [==============================] - 2s 26us/sample - loss: 0.0146 - accuracy: 0.9954 - val_loss: 0.0762 - val_accuracy: 0.9758\n",
      "Epoch 8/20\n",
      "66247/66247 [==============================] - 2s 29us/sample - loss: 0.0111 - accuracy: 0.9966 - val_loss: 0.0929 - val_accuracy: 0.9780\n",
      "Epoch 9/20\n",
      "66247/66247 [==============================] - 2s 24us/sample - loss: 0.0134 - accuracy: 0.9960 - val_loss: 0.0409 - val_accuracy: 0.9884\n",
      "Epoch 10/20\n",
      "66247/66247 [==============================] - 2s 24us/sample - loss: 0.0137 - accuracy: 0.9959 - val_loss: 0.0478 - val_accuracy: 0.9859\n",
      "Epoch 11/20\n",
      "66247/66247 [==============================] - 2s 24us/sample - loss: 0.0122 - accuracy: 0.9964 - val_loss: 0.0342 - val_accuracy: 0.9912\n",
      "Epoch 12/20\n",
      "66247/66247 [==============================] - 2s 24us/sample - loss: 0.0088 - accuracy: 0.9975 - val_loss: 0.0492 - val_accuracy: 0.9881\n",
      "Epoch 13/20\n",
      "66247/66247 [==============================] - 2s 24us/sample - loss: 0.0098 - accuracy: 0.9971 - val_loss: 0.0566 - val_accuracy: 0.9852\n",
      "Epoch 14/20\n",
      "66247/66247 [==============================] - 2s 24us/sample - loss: 0.0111 - accuracy: 0.9966 - val_loss: 0.0866 - val_accuracy: 0.9838\n",
      "Epoch 15/20\n",
      "66247/66247 [==============================] - 2s 23us/sample - loss: 0.0082 - accuracy: 0.9976 - val_loss: 0.0577 - val_accuracy: 0.9857\n",
      "Epoch 16/20\n",
      "66247/66247 [==============================] - 2s 23us/sample - loss: 0.0090 - accuracy: 0.9974 - val_loss: 0.0328 - val_accuracy: 0.9919\n",
      "Epoch 17/20\n",
      "66247/66247 [==============================] - 2s 24us/sample - loss: 0.0099 - accuracy: 0.9970 - val_loss: 0.1016 - val_accuracy: 0.9767\n",
      "Epoch 18/20\n",
      "66247/66247 [==============================] - 2s 24us/sample - loss: 0.0073 - accuracy: 0.9978 - val_loss: 0.0544 - val_accuracy: 0.9863\n",
      "Epoch 19/20\n",
      "66247/66247 [==============================] - 2s 24us/sample - loss: 0.0105 - accuracy: 0.9971 - val_loss: 0.0378 - val_accuracy: 0.9924\n",
      "Epoch 20/20\n",
      "66247/66247 [==============================] - 2s 25us/sample - loss: 0.0070 - accuracy: 0.9978 - val_loss: 0.0969 - val_accuracy: 0.9823\n",
      "lr=  1.0000e-02 test accuracy=0.982287\n",
      "Train on 66247 samples, validate on 14904 samples\n",
      "Epoch 1/20\n",
      "66247/66247 [==============================] - 2s 28us/sample - loss: 0.3561 - accuracy: 0.9032 - val_loss: 0.1786 - val_accuracy: 0.9525\n",
      "Epoch 2/20\n",
      "66247/66247 [==============================] - 2s 24us/sample - loss: 0.1017 - accuracy: 0.9753 - val_loss: 0.0968 - val_accuracy: 0.9718\n",
      "Epoch 3/20\n",
      "66247/66247 [==============================] - 2s 26us/sample - loss: 0.0596 - accuracy: 0.9858 - val_loss: 0.0635 - val_accuracy: 0.9835\n",
      "Epoch 4/20\n",
      "66247/66247 [==============================] - 2s 25us/sample - loss: 0.0421 - accuracy: 0.9896 - val_loss: 0.0458 - val_accuracy: 0.9887\n",
      "Epoch 5/20\n",
      "66247/66247 [==============================] - 2s 25us/sample - loss: 0.0319 - accuracy: 0.9918 - val_loss: 0.0406 - val_accuracy: 0.9883\n",
      "Epoch 6/20\n",
      "66247/66247 [==============================] - 2s 24us/sample - loss: 0.0255 - accuracy: 0.9934 - val_loss: 0.0330 - val_accuracy: 0.9904\n",
      "Epoch 7/20\n",
      "66247/66247 [==============================] - 2s 25us/sample - loss: 0.0208 - accuracy: 0.9944 - val_loss: 0.0315 - val_accuracy: 0.9917\n",
      "Epoch 8/20\n",
      "66247/66247 [==============================] - 2s 25us/sample - loss: 0.0174 - accuracy: 0.9955 - val_loss: 0.0271 - val_accuracy: 0.9923\n",
      "Epoch 9/20\n",
      "66247/66247 [==============================] - 2s 25us/sample - loss: 0.0149 - accuracy: 0.9961 - val_loss: 0.0277 - val_accuracy: 0.9913\n",
      "Epoch 10/20\n",
      "66247/66247 [==============================] - 2s 24us/sample - loss: 0.0130 - accuracy: 0.9966 - val_loss: 0.0296 - val_accuracy: 0.9892\n",
      "Epoch 11/20\n",
      "66247/66247 [==============================] - 2s 24us/sample - loss: 0.0115 - accuracy: 0.9969 - val_loss: 0.0205 - val_accuracy: 0.9940\n",
      "Epoch 12/20\n",
      "66247/66247 [==============================] - 2s 25us/sample - loss: 0.0103 - accuracy: 0.9973 - val_loss: 0.0232 - val_accuracy: 0.9924\n",
      "Epoch 13/20\n",
      "66247/66247 [==============================] - 2s 24us/sample - loss: 0.0092 - accuracy: 0.9976 - val_loss: 0.0277 - val_accuracy: 0.9901\n",
      "Epoch 14/20\n",
      "66247/66247 [==============================] - 2s 24us/sample - loss: 0.0081 - accuracy: 0.9978 - val_loss: 0.0175 - val_accuracy: 0.9941\n",
      "Epoch 15/20\n",
      "66247/66247 [==============================] - 2s 24us/sample - loss: 0.0076 - accuracy: 0.9980 - val_loss: 0.0177 - val_accuracy: 0.9931\n",
      "Epoch 16/20\n",
      "66247/66247 [==============================] - 2s 24us/sample - loss: 0.0069 - accuracy: 0.9981 - val_loss: 0.0241 - val_accuracy: 0.9910\n",
      "Epoch 17/20\n",
      "66247/66247 [==============================] - 2s 25us/sample - loss: 0.0065 - accuracy: 0.9982 - val_loss: 0.0179 - val_accuracy: 0.9936\n",
      "Epoch 18/20\n",
      "66247/66247 [==============================] - 2s 25us/sample - loss: 0.0057 - accuracy: 0.9985 - val_loss: 0.0187 - val_accuracy: 0.9930\n",
      "Epoch 19/20\n",
      "66247/66247 [==============================] - 2s 25us/sample - loss: 0.0057 - accuracy: 0.9985 - val_loss: 0.0241 - val_accuracy: 0.9919\n",
      "Epoch 20/20\n",
      "66247/66247 [==============================] - 2s 27us/sample - loss: 0.0050 - accuracy: 0.9989 - val_loss: 0.0201 - val_accuracy: 0.9934\n",
      "lr=  1.0000e-03 test accuracy=0.993425\n",
      "Train on 66247 samples, validate on 14904 samples\n",
      "Epoch 1/20\n",
      "66247/66247 [==============================] - 2s 28us/sample - loss: 1.1604 - accuracy: 0.6357 - val_loss: 0.8694 - val_accuracy: 0.6647\n",
      "Epoch 2/20\n",
      "66247/66247 [==============================] - 2s 37us/sample - loss: 0.5669 - accuracy: 0.8429 - val_loss: 0.5873 - val_accuracy: 0.8045\n",
      "Epoch 3/20\n",
      "66247/66247 [==============================] - 5s 70us/sample - loss: 0.3924 - accuracy: 0.9075 - val_loss: 0.4475 - val_accuracy: 0.8659\n",
      "Epoch 4/20\n",
      "66247/66247 [==============================] - 2s 25us/sample - loss: 0.3029 - accuracy: 0.9316 - val_loss: 0.3602 - val_accuracy: 0.8997\n",
      "Epoch 5/20\n",
      "66247/66247 [==============================] - 1s 22us/sample - loss: 0.2459 - accuracy: 0.9448 - val_loss: 0.2912 - val_accuracy: 0.9236\n",
      "Epoch 6/20\n",
      "66247/66247 [==============================] - 3s 38us/sample - loss: 0.2050 - accuracy: 0.9533 - val_loss: 0.2474 - val_accuracy: 0.9333\n",
      "Epoch 7/20\n",
      "66247/66247 [==============================] - 3s 39us/sample - loss: 0.1740 - accuracy: 0.9598 - val_loss: 0.2120 - val_accuracy: 0.9408\n",
      "Epoch 8/20\n",
      "66247/66247 [==============================] - 3s 46us/sample - loss: 0.1494 - accuracy: 0.9649 - val_loss: 0.1865 - val_accuracy: 0.9451\n",
      "Epoch 9/20\n",
      "66247/66247 [==============================] - 2s 27us/sample - loss: 0.1299 - accuracy: 0.9696 - val_loss: 0.1558 - val_accuracy: 0.9587\n",
      "Epoch 10/20\n",
      "66247/66247 [==============================] - 2s 26us/sample - loss: 0.1139 - accuracy: 0.9729 - val_loss: 0.1372 - val_accuracy: 0.9627\n",
      "Epoch 11/20\n",
      "66247/66247 [==============================] - 2s 30us/sample - loss: 0.1009 - accuracy: 0.9763 - val_loss: 0.1212 - val_accuracy: 0.9694\n",
      "Epoch 12/20\n",
      "66247/66247 [==============================] - 3s 42us/sample - loss: 0.0903 - accuracy: 0.9789 - val_loss: 0.1121 - val_accuracy: 0.9681\n",
      "Epoch 13/20\n",
      "66247/66247 [==============================] - 3s 42us/sample - loss: 0.0814 - accuracy: 0.9812 - val_loss: 0.1009 - val_accuracy: 0.9742\n",
      "Epoch 14/20\n"
     ]
    },
    {
     "name": "stdout",
     "output_type": "stream",
     "text": [
      "66247/66247 [==============================] - 2s 30us/sample - loss: 0.0740 - accuracy: 0.9831 - val_loss: 0.0913 - val_accuracy: 0.9758\n",
      "Epoch 15/20\n",
      "66247/66247 [==============================] - 2s 27us/sample - loss: 0.0678 - accuracy: 0.9847 - val_loss: 0.0853 - val_accuracy: 0.9779\n",
      "Epoch 16/20\n",
      "66247/66247 [==============================] - 2s 25us/sample - loss: 0.0624 - accuracy: 0.9855 - val_loss: 0.0791 - val_accuracy: 0.9799\n",
      "Epoch 17/20\n",
      "66247/66247 [==============================] - 4s 59us/sample - loss: 0.0578 - accuracy: 0.9863 - val_loss: 0.0774 - val_accuracy: 0.9793\n",
      "Epoch 18/20\n",
      "66247/66247 [==============================] - 3s 49us/sample - loss: 0.0538 - accuracy: 0.9873 - val_loss: 0.0728 - val_accuracy: 0.9805\n",
      "Epoch 19/20\n",
      "66247/66247 [==============================] - 2s 28us/sample - loss: 0.0503 - accuracy: 0.9879 - val_loss: 0.0661 - val_accuracy: 0.9828\n",
      "Epoch 20/20\n",
      "66247/66247 [==============================] - 2s 36us/sample - loss: 0.0473 - accuracy: 0.9886 - val_loss: 0.0630 - val_accuracy: 0.9837\n",
      "lr=  1.0000e-04 test accuracy=0.983696\n"
     ]
    }
   ],
   "source": [
    "rates = [0.01,0.001,0.0001]\n",
    "batch_size = 100\n",
    "loss_hist = []\n",
    "\n",
    "for lr in rates:\n",
    "    K.clear_session()\n",
    "    \n",
    "    model = Sequential()\n",
    "    model.add(Dense(nh, input_shape=(nin,), activation='sigmoid', name='hidden'))\n",
    "    model.add(Dense(nout, activation='softmax', name='output'))\n",
    "    \n",
    "    opt = optimizers.Adam(lr=lr)\n",
    "    model.compile(optimizer=opt, loss='sparse_categorical_crossentropy', metrics=['accuracy'])\n",
    "    \n",
    "    hist = model.fit(Xtr_scale, ytr, epochs=20, batch_size=batch_size, validation_data=(Xts_scale,yts))\n",
    "    \n",
    "    loss_hist.append( hist.history['loss'])\n",
    "    \n",
    "    val_acc = hist.history['val_accuracy'][-1]\n",
    "    print(\"lr=%12.4e test accuracy=%f\" % (lr, val_acc))"
   ]
  },
  {
   "cell_type": "code",
   "execution_count": 24,
   "metadata": {},
   "outputs": [
    {
     "data": {
      "image/png": "[encoded data removed]",
      "text/plain": [
       "<matplotlib.figure.Figure at 0x1c3248e668>"
      ]
     },
     "metadata": {},
     "output_type": "display_data"
    }
   ],
   "source": [
    "ntest = len(loss_hist)\n",
    "ntr = Xtr.shape[0]\n",
    "batch_size=100\n",
    "for it, loss in enumerate(loss_hist):\n",
    "    nepochs = len(loss)\n",
    "    epochs = np.arange(1,nepochs+1)\n",
    "    plt.semilogy(epochs, loss, 'o-')\n",
    "    rate_str = ['{0:5.4f}'.format(lr) for lr in rates]\n",
    "    plt.xlabel('Epochs', fontsize=16)\n",
    "    plt.ylabel('Loss', fontsize=16)\n",
    "    plt.legend(rate_str,loc='lower left')\n",
    "    plt.grid()"
   ]
  },
  {
   "cell_type": "code",
   "execution_count": null,
   "metadata": {},
   "outputs": [],
   "source": []
  }
 ],
 "metadata": {
  "kernelspec": {
   "display_name": "Python 3",
   "language": "python",
   "name": "python3"
  },
  "language_info": {
   "codemirror_mode": {
    "name": "ipython",
    "version": 3
   },
   "file_extension": ".py",
   "mimetype": "text/x-python",
   "name": "python",
   "nbconvert_exporter": "python",
   "pygments_lexer": "ipython3",
   "version": "3.6.4"
  }
 },
 "nbformat": 4,
 "nbformat_minor": 2
}
